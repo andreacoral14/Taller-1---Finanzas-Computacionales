{
  "nbformat": 4,
  "nbformat_minor": 0,
  "metadata": {
    "colab": {
      "provenance": []
    },
    "kernelspec": {
      "name": "python3",
      "display_name": "Python 3"
    },
    "language_info": {
      "name": "python"
    }
  },
  "cells": [
    {
      "cell_type": "markdown",
      "source": [
        "Nombre= Andrea Isabel Coral Vela\n",
        "ID= 1004580183"
      ],
      "metadata": {
        "id": "bsTb4TwUJ8hW"
      }
    },
    {
      "cell_type": "markdown",
      "source": [
        "1. Escoja dos acciones de su preferencia en el mercado estadounidense. Para estas dos\n",
        "acciones descargue las series de precios diarios para el periodo Ene-21 a Dic-2022 usando\n",
        "pandas datareader. Con esta información: \n",
        "\n",
        "*   a. Calcule los retornos logarítmicos diarios, mensuales y anualizados. Presente los resultados en una tabla.\n",
        "*   b. Calcule los retornos esperados y volatilidades anualizadas.\n",
        "*   c. Construya una tabla resumen con las estadísticas descriptivas de las    series diarias (media, mediana, desv. estándar, curtosis, simetría) de los dos activos.\n",
        "*   d. Compare las distribuciones empíricas de los dos activos con la distribución teórica normal.\n",
        "*   e. Calcule la matriz de correlaciones de Pearson, rango de Kendall y de Spearman.\n",
        "*   f. Implemente las pruebas de normalidad de Kolmogorov-Smirnov para todos los activos.\n",
        "\n",
        "\n",
        "\n",
        "\n"
      ],
      "metadata": {
        "id": "2C6TgEjuOlx3"
      }
    },
    {
      "cell_type": "code",
      "source": [
        "import numpy as np\n",
        "import pandas as pd\n",
        "import matplotlib.pyplot as plt\n",
        "import warnings\n",
        "warnings.filterwarnings(\"ignore\")\n",
        "!pip install --quiet yfinance\n",
        "import yfinance as yf"
      ],
      "metadata": {
        "id": "ycuxN1B1QtiM",
        "colab": {
          "base_uri": "https://localhost:8080/"
        },
        "outputId": "c806a5ae-d16e-465d-b073-c1ec547915c8"
      },
      "execution_count": null,
      "outputs": [
        {
          "output_type": "stream",
          "name": "stdout",
          "text": [
            "\u001b[2K     \u001b[90m━━━━━━━━━━━━━━━━━━━━━━━━━━━━━━━━━━━━━━━━\u001b[0m \u001b[32m59.2/59.2 KB\u001b[0m \u001b[31m1.1 MB/s\u001b[0m eta \u001b[36m0:00:00\u001b[0m\n",
            "\u001b[2K     \u001b[90m━━━━━━━━━━━━━━━━━━━━━━━━━━━━━━━━━━━━━━━━\u001b[0m \u001b[32m4.2/4.2 MB\u001b[0m \u001b[31m8.2 MB/s\u001b[0m eta \u001b[36m0:00:00\u001b[0m\n",
            "\u001b[2K     \u001b[90m━━━━━━━━━━━━━━━━━━━━━━━━━━━━━━━━━━━━━━━━\u001b[0m \u001b[32m62.8/62.8 KB\u001b[0m \u001b[31m2.7 MB/s\u001b[0m eta \u001b[36m0:00:00\u001b[0m\n",
            "\u001b[2K     \u001b[90m━━━━━━━━━━━━━━━━━━━━━━━━━━━━━━━━━━━━━━━\u001b[0m \u001b[32m111.0/111.0 KB\u001b[0m \u001b[31m5.3 MB/s\u001b[0m eta \u001b[36m0:00:00\u001b[0m\n",
            "\u001b[2K     \u001b[90m━━━━━━━━━━━━━━━━━━━━━━━━━━━━━━━━━━━━━━━\u001b[0m \u001b[32m112.2/112.2 KB\u001b[0m \u001b[31m3.5 MB/s\u001b[0m eta \u001b[36m0:00:00\u001b[0m\n",
            "\u001b[2K     \u001b[90m━━━━━━━━━━━━━━━━━━━━━━━━━━━━━━━━━━━━━━━\u001b[0m \u001b[32m129.4/129.4 KB\u001b[0m \u001b[31m9.9 MB/s\u001b[0m eta \u001b[36m0:00:00\u001b[0m\n",
            "\u001b[?25h"
          ]
        }
      ]
    },
    {
      "cell_type": "markdown",
      "source": [
        "INFORMACION DE LAS DOS ACCIONES "
      ],
      "metadata": {
        "id": "vC-_0rpYh0Bt"
      }
    },
    {
      "cell_type": "markdown",
      "source": [
        "Datos acciones amazon y meta con resultados diarios "
      ],
      "metadata": {
        "id": "52Rmc4fshgPM"
      }
    },
    {
      "cell_type": "code",
      "source": [
        "from pandas_datareader import data as wb\n",
        "from datetime import datetime"
      ],
      "metadata": {
        "id": "yzWiGZhdnMph"
      },
      "execution_count": null,
      "outputs": []
    },
    {
      "cell_type": "code",
      "source": [
        "yf.pdr_override()"
      ],
      "metadata": {
        "id": "A4c0yjOPCfmC"
      },
      "execution_count": null,
      "outputs": []
    },
    {
      "cell_type": "markdown",
      "source": [
        "#Punto 1"
      ],
      "metadata": {
        "id": "CKrrG1Ytcus3"
      }
    },
    {
      "cell_type": "markdown",
      "source": [
        "#A\n",
        "\n",
        "\n",
        "\n"
      ],
      "metadata": {
        "id": "B0Njm4f6cEOx"
      }
    },
    {
      "cell_type": "code",
      "source": [
        "activos = [\"MSFT\", \"MCO\"]\n",
        "precios_diarios =wb.get_data_yahoo(activos,start=\"2021-01-01\",end=\"2022-12-31\")[\"Adj Close\"] \n",
        "retornos_diarios = np.log(precios_diarios/precios_diarios.shift(1)).dropna()\n",
        "retornos_diarios.head()\n",
        "\n"
      ],
      "metadata": {
        "id": "YmcStkmfS0HK",
        "colab": {
          "base_uri": "https://localhost:8080/",
          "height": 252
        },
        "outputId": "8e0c3d8c-73cb-4afa-e811-9a9ff9cb817c"
      },
      "execution_count": null,
      "outputs": [
        {
          "output_type": "stream",
          "name": "stdout",
          "text": [
            "[*********************100%***********************]  2 of 2 completed\n"
          ]
        },
        {
          "output_type": "execute_result",
          "data": {
            "text/plain": [
              "                 MCO      MSFT\n",
              "Date                          \n",
              "2021-01-05 -0.026442  0.000964\n",
              "2021-01-06 -0.010712 -0.026271\n",
              "2021-01-07  0.000107  0.028059\n",
              "2021-01-08 -0.004167  0.006074\n",
              "2021-01-11 -0.013871 -0.009746"
            ],
            "text/html": [
              "\n",
              "  <div id=\"df-ffed5b77-6779-46c9-9ef8-2696aea76d24\">\n",
              "    <div class=\"colab-df-container\">\n",
              "      <div>\n",
              "<style scoped>\n",
              "    .dataframe tbody tr th:only-of-type {\n",
              "        vertical-align: middle;\n",
              "    }\n",
              "\n",
              "    .dataframe tbody tr th {\n",
              "        vertical-align: top;\n",
              "    }\n",
              "\n",
              "    .dataframe thead th {\n",
              "        text-align: right;\n",
              "    }\n",
              "</style>\n",
              "<table border=\"1\" class=\"dataframe\">\n",
              "  <thead>\n",
              "    <tr style=\"text-align: right;\">\n",
              "      <th></th>\n",
              "      <th>MCO</th>\n",
              "      <th>MSFT</th>\n",
              "    </tr>\n",
              "    <tr>\n",
              "      <th>Date</th>\n",
              "      <th></th>\n",
              "      <th></th>\n",
              "    </tr>\n",
              "  </thead>\n",
              "  <tbody>\n",
              "    <tr>\n",
              "      <th>2021-01-05</th>\n",
              "      <td>-0.026442</td>\n",
              "      <td>0.000964</td>\n",
              "    </tr>\n",
              "    <tr>\n",
              "      <th>2021-01-06</th>\n",
              "      <td>-0.010712</td>\n",
              "      <td>-0.026271</td>\n",
              "    </tr>\n",
              "    <tr>\n",
              "      <th>2021-01-07</th>\n",
              "      <td>0.000107</td>\n",
              "      <td>0.028059</td>\n",
              "    </tr>\n",
              "    <tr>\n",
              "      <th>2021-01-08</th>\n",
              "      <td>-0.004167</td>\n",
              "      <td>0.006074</td>\n",
              "    </tr>\n",
              "    <tr>\n",
              "      <th>2021-01-11</th>\n",
              "      <td>-0.013871</td>\n",
              "      <td>-0.009746</td>\n",
              "    </tr>\n",
              "  </tbody>\n",
              "</table>\n",
              "</div>\n",
              "      <button class=\"colab-df-convert\" onclick=\"convertToInteractive('df-ffed5b77-6779-46c9-9ef8-2696aea76d24')\"\n",
              "              title=\"Convert this dataframe to an interactive table.\"\n",
              "              style=\"display:none;\">\n",
              "        \n",
              "  <svg xmlns=\"http://www.w3.org/2000/svg\" height=\"24px\"viewBox=\"0 0 24 24\"\n",
              "       width=\"24px\">\n",
              "    <path d=\"M0 0h24v24H0V0z\" fill=\"none\"/>\n",
              "    <path d=\"M18.56 5.44l.94 2.06.94-2.06 2.06-.94-2.06-.94-.94-2.06-.94 2.06-2.06.94zm-11 1L8.5 8.5l.94-2.06 2.06-.94-2.06-.94L8.5 2.5l-.94 2.06-2.06.94zm10 10l.94 2.06.94-2.06 2.06-.94-2.06-.94-.94-2.06-.94 2.06-2.06.94z\"/><path d=\"M17.41 7.96l-1.37-1.37c-.4-.4-.92-.59-1.43-.59-.52 0-1.04.2-1.43.59L10.3 9.45l-7.72 7.72c-.78.78-.78 2.05 0 2.83L4 21.41c.39.39.9.59 1.41.59.51 0 1.02-.2 1.41-.59l7.78-7.78 2.81-2.81c.8-.78.8-2.07 0-2.86zM5.41 20L4 18.59l7.72-7.72 1.47 1.35L5.41 20z\"/>\n",
              "  </svg>\n",
              "      </button>\n",
              "      \n",
              "  <style>\n",
              "    .colab-df-container {\n",
              "      display:flex;\n",
              "      flex-wrap:wrap;\n",
              "      gap: 12px;\n",
              "    }\n",
              "\n",
              "    .colab-df-convert {\n",
              "      background-color: #E8F0FE;\n",
              "      border: none;\n",
              "      border-radius: 50%;\n",
              "      cursor: pointer;\n",
              "      display: none;\n",
              "      fill: #1967D2;\n",
              "      height: 32px;\n",
              "      padding: 0 0 0 0;\n",
              "      width: 32px;\n",
              "    }\n",
              "\n",
              "    .colab-df-convert:hover {\n",
              "      background-color: #E2EBFA;\n",
              "      box-shadow: 0px 1px 2px rgba(60, 64, 67, 0.3), 0px 1px 3px 1px rgba(60, 64, 67, 0.15);\n",
              "      fill: #174EA6;\n",
              "    }\n",
              "\n",
              "    [theme=dark] .colab-df-convert {\n",
              "      background-color: #3B4455;\n",
              "      fill: #D2E3FC;\n",
              "    }\n",
              "\n",
              "    [theme=dark] .colab-df-convert:hover {\n",
              "      background-color: #434B5C;\n",
              "      box-shadow: 0px 1px 3px 1px rgba(0, 0, 0, 0.15);\n",
              "      filter: drop-shadow(0px 1px 2px rgba(0, 0, 0, 0.3));\n",
              "      fill: #FFFFFF;\n",
              "    }\n",
              "  </style>\n",
              "\n",
              "      <script>\n",
              "        const buttonEl =\n",
              "          document.querySelector('#df-ffed5b77-6779-46c9-9ef8-2696aea76d24 button.colab-df-convert');\n",
              "        buttonEl.style.display =\n",
              "          google.colab.kernel.accessAllowed ? 'block' : 'none';\n",
              "\n",
              "        async function convertToInteractive(key) {\n",
              "          const element = document.querySelector('#df-ffed5b77-6779-46c9-9ef8-2696aea76d24');\n",
              "          const dataTable =\n",
              "            await google.colab.kernel.invokeFunction('convertToInteractive',\n",
              "                                                     [key], {});\n",
              "          if (!dataTable) return;\n",
              "\n",
              "          const docLinkHtml = 'Like what you see? Visit the ' +\n",
              "            '<a target=\"_blank\" href=https://colab.research.google.com/notebooks/data_table.ipynb>data table notebook</a>'\n",
              "            + ' to learn more about interactive tables.';\n",
              "          element.innerHTML = '';\n",
              "          dataTable['output_type'] = 'display_data';\n",
              "          await google.colab.output.renderOutput(dataTable, element);\n",
              "          const docLink = document.createElement('div');\n",
              "          docLink.innerHTML = docLinkHtml;\n",
              "          element.appendChild(docLink);\n",
              "        }\n",
              "      </script>\n",
              "    </div>\n",
              "  </div>\n",
              "  "
            ]
          },
          "metadata": {},
          "execution_count": 64
        }
      ]
    },
    {
      "cell_type": "code",
      "source": [
        "promedio_retornos_diarios = retornos_diarios.mean()\n",
        "df1 = pd.DataFrame(promedio_retornos_diarios)"
      ],
      "metadata": {
        "id": "vSdIXTotTSWy"
      },
      "execution_count": null,
      "outputs": []
    },
    {
      "cell_type": "code",
      "source": [
        "retornos_menusales = retornos_diarios.mean()*21\n",
        "df2 = pd.DataFrame(retornos_menusales)"
      ],
      "metadata": {
        "id": "uqFN1-B_eTNb"
      },
      "execution_count": null,
      "outputs": []
    },
    {
      "cell_type": "code",
      "source": [
        "retornos_anualizados = retornos_diarios.mean()*252\n",
        "df3 = pd.DataFrame(retornos_anualizados)"
      ],
      "metadata": {
        "id": "amO-VdHqkO7j"
      },
      "execution_count": null,
      "outputs": []
    },
    {
      "cell_type": "code",
      "source": [
        "table = pd.concat([df1, df2, df3], axis=1)\n",
        "table.columns = ['Retornos diarios', 'Retornos mensuales','Retornos anualizados']\n",
        "table"
      ],
      "metadata": {
        "colab": {
          "base_uri": "https://localhost:8080/",
          "height": 111
        },
        "id": "FwfM3DbCOTGu",
        "outputId": "dd4bd9b3-6ad7-4eaf-9a6e-9beaf24cd1ae"
      },
      "execution_count": null,
      "outputs": [
        {
          "output_type": "execute_result",
          "data": {
            "text/plain": [
              "      Retornos diarios  Retornos mensuales  Retornos anualizados\n",
              "MCO          -0.000060           -0.001264             -0.015162\n",
              "MSFT          0.000228            0.004789              0.057473"
            ],
            "text/html": [
              "\n",
              "  <div id=\"df-23b31e3f-dad6-4e56-9e0e-b184f8e5264c\">\n",
              "    <div class=\"colab-df-container\">\n",
              "      <div>\n",
              "<style scoped>\n",
              "    .dataframe tbody tr th:only-of-type {\n",
              "        vertical-align: middle;\n",
              "    }\n",
              "\n",
              "    .dataframe tbody tr th {\n",
              "        vertical-align: top;\n",
              "    }\n",
              "\n",
              "    .dataframe thead th {\n",
              "        text-align: right;\n",
              "    }\n",
              "</style>\n",
              "<table border=\"1\" class=\"dataframe\">\n",
              "  <thead>\n",
              "    <tr style=\"text-align: right;\">\n",
              "      <th></th>\n",
              "      <th>Retornos diarios</th>\n",
              "      <th>Retornos mensuales</th>\n",
              "      <th>Retornos anualizados</th>\n",
              "    </tr>\n",
              "  </thead>\n",
              "  <tbody>\n",
              "    <tr>\n",
              "      <th>MCO</th>\n",
              "      <td>-0.000060</td>\n",
              "      <td>-0.001264</td>\n",
              "      <td>-0.015162</td>\n",
              "    </tr>\n",
              "    <tr>\n",
              "      <th>MSFT</th>\n",
              "      <td>0.000228</td>\n",
              "      <td>0.004789</td>\n",
              "      <td>0.057473</td>\n",
              "    </tr>\n",
              "  </tbody>\n",
              "</table>\n",
              "</div>\n",
              "      <button class=\"colab-df-convert\" onclick=\"convertToInteractive('df-23b31e3f-dad6-4e56-9e0e-b184f8e5264c')\"\n",
              "              title=\"Convert this dataframe to an interactive table.\"\n",
              "              style=\"display:none;\">\n",
              "        \n",
              "  <svg xmlns=\"http://www.w3.org/2000/svg\" height=\"24px\"viewBox=\"0 0 24 24\"\n",
              "       width=\"24px\">\n",
              "    <path d=\"M0 0h24v24H0V0z\" fill=\"none\"/>\n",
              "    <path d=\"M18.56 5.44l.94 2.06.94-2.06 2.06-.94-2.06-.94-.94-2.06-.94 2.06-2.06.94zm-11 1L8.5 8.5l.94-2.06 2.06-.94-2.06-.94L8.5 2.5l-.94 2.06-2.06.94zm10 10l.94 2.06.94-2.06 2.06-.94-2.06-.94-.94-2.06-.94 2.06-2.06.94z\"/><path d=\"M17.41 7.96l-1.37-1.37c-.4-.4-.92-.59-1.43-.59-.52 0-1.04.2-1.43.59L10.3 9.45l-7.72 7.72c-.78.78-.78 2.05 0 2.83L4 21.41c.39.39.9.59 1.41.59.51 0 1.02-.2 1.41-.59l7.78-7.78 2.81-2.81c.8-.78.8-2.07 0-2.86zM5.41 20L4 18.59l7.72-7.72 1.47 1.35L5.41 20z\"/>\n",
              "  </svg>\n",
              "      </button>\n",
              "      \n",
              "  <style>\n",
              "    .colab-df-container {\n",
              "      display:flex;\n",
              "      flex-wrap:wrap;\n",
              "      gap: 12px;\n",
              "    }\n",
              "\n",
              "    .colab-df-convert {\n",
              "      background-color: #E8F0FE;\n",
              "      border: none;\n",
              "      border-radius: 50%;\n",
              "      cursor: pointer;\n",
              "      display: none;\n",
              "      fill: #1967D2;\n",
              "      height: 32px;\n",
              "      padding: 0 0 0 0;\n",
              "      width: 32px;\n",
              "    }\n",
              "\n",
              "    .colab-df-convert:hover {\n",
              "      background-color: #E2EBFA;\n",
              "      box-shadow: 0px 1px 2px rgba(60, 64, 67, 0.3), 0px 1px 3px 1px rgba(60, 64, 67, 0.15);\n",
              "      fill: #174EA6;\n",
              "    }\n",
              "\n",
              "    [theme=dark] .colab-df-convert {\n",
              "      background-color: #3B4455;\n",
              "      fill: #D2E3FC;\n",
              "    }\n",
              "\n",
              "    [theme=dark] .colab-df-convert:hover {\n",
              "      background-color: #434B5C;\n",
              "      box-shadow: 0px 1px 3px 1px rgba(0, 0, 0, 0.15);\n",
              "      filter: drop-shadow(0px 1px 2px rgba(0, 0, 0, 0.3));\n",
              "      fill: #FFFFFF;\n",
              "    }\n",
              "  </style>\n",
              "\n",
              "      <script>\n",
              "        const buttonEl =\n",
              "          document.querySelector('#df-23b31e3f-dad6-4e56-9e0e-b184f8e5264c button.colab-df-convert');\n",
              "        buttonEl.style.display =\n",
              "          google.colab.kernel.accessAllowed ? 'block' : 'none';\n",
              "\n",
              "        async function convertToInteractive(key) {\n",
              "          const element = document.querySelector('#df-23b31e3f-dad6-4e56-9e0e-b184f8e5264c');\n",
              "          const dataTable =\n",
              "            await google.colab.kernel.invokeFunction('convertToInteractive',\n",
              "                                                     [key], {});\n",
              "          if (!dataTable) return;\n",
              "\n",
              "          const docLinkHtml = 'Like what you see? Visit the ' +\n",
              "            '<a target=\"_blank\" href=https://colab.research.google.com/notebooks/data_table.ipynb>data table notebook</a>'\n",
              "            + ' to learn more about interactive tables.';\n",
              "          element.innerHTML = '';\n",
              "          dataTable['output_type'] = 'display_data';\n",
              "          await google.colab.output.renderOutput(dataTable, element);\n",
              "          const docLink = document.createElement('div');\n",
              "          docLink.innerHTML = docLinkHtml;\n",
              "          element.appendChild(docLink);\n",
              "        }\n",
              "      </script>\n",
              "    </div>\n",
              "  </div>\n",
              "  "
            ]
          },
          "metadata": {},
          "execution_count": 57
        }
      ]
    },
    {
      "cell_type": "markdown",
      "source": [
        "#B"
      ],
      "metadata": {
        "id": "zpekrG_8k9eH"
      }
    },
    {
      "cell_type": "code",
      "source": [
        "retornos_diarios.std()"
      ],
      "metadata": {
        "colab": {
          "base_uri": "https://localhost:8080/"
        },
        "id": "dpFukyCDkgJd",
        "outputId": "c39d0ca0-379f-4213-bb19-16ca894a8236"
      },
      "execution_count": null,
      "outputs": [
        {
          "output_type": "execute_result",
          "data": {
            "text/plain": [
              "MCO     0.017948\n",
              "MSFT    0.018335\n",
              "dtype: float64"
            ]
          },
          "metadata": {},
          "execution_count": 36
        }
      ]
    },
    {
      "cell_type": "code",
      "source": [
        "retornos_diarios.std()*np.sqrt(21)"
      ],
      "metadata": {
        "colab": {
          "base_uri": "https://localhost:8080/"
        },
        "id": "JTmG3LXDkn5i",
        "outputId": "110eb2e4-d131-4c04-ae7e-3eba47e9987b"
      },
      "execution_count": null,
      "outputs": [
        {
          "output_type": "execute_result",
          "data": {
            "text/plain": [
              "MCO     0.082248\n",
              "MSFT    0.084022\n",
              "dtype: float64"
            ]
          },
          "metadata": {},
          "execution_count": 37
        }
      ]
    },
    {
      "cell_type": "code",
      "source": [
        "retornos_diarios.std()*np.sqrt(252)"
      ],
      "metadata": {
        "colab": {
          "base_uri": "https://localhost:8080/"
        },
        "id": "CFwzivN-k39q",
        "outputId": "cb6b6b78-1cd3-48e1-ad7e-065dcd1c4951"
      },
      "execution_count": null,
      "outputs": [
        {
          "output_type": "execute_result",
          "data": {
            "text/plain": [
              "MCO     0.284915\n",
              "MSFT    0.291062\n",
              "dtype: float64"
            ]
          },
          "metadata": {},
          "execution_count": 38
        }
      ]
    },
    {
      "cell_type": "markdown",
      "source": [
        "#C"
      ],
      "metadata": {
        "id": "vxkGsXVqbMZK"
      }
    },
    {
      "cell_type": "code",
      "source": [
        "Media = pd.DataFrame(retornos_diarios.mean())"
      ],
      "metadata": {
        "id": "3DdYmtcyZfQz"
      },
      "execution_count": null,
      "outputs": []
    },
    {
      "cell_type": "code",
      "source": [
        "Mediana = pd.DataFrame(retornos_diarios.median())"
      ],
      "metadata": {
        "id": "_PjIB71DZlZx"
      },
      "execution_count": null,
      "outputs": []
    },
    {
      "cell_type": "code",
      "source": [
        "Desviacion = pd.DataFrame(retornos_diarios.std())"
      ],
      "metadata": {
        "id": "WkCEzHy9Zn0d"
      },
      "execution_count": null,
      "outputs": []
    },
    {
      "cell_type": "code",
      "source": [
        "Curtosis = pd.DataFrame(retornos_diarios.kurtosis())"
      ],
      "metadata": {
        "id": "nXYjbm_7Zw74"
      },
      "execution_count": null,
      "outputs": []
    },
    {
      "cell_type": "code",
      "source": [
        "Asimetria = pd.DataFrame(retornos_diarios.skew())"
      ],
      "metadata": {
        "id": "2hS7lUwzZrYV"
      },
      "execution_count": null,
      "outputs": []
    },
    {
      "cell_type": "code",
      "source": [
        "Estadística_descriptiva = pd.concat([Media,Mediana,Desviacion,Curtosis,Asimetria], axis=1)\n",
        "Estadística_descriptiva.columns = ['Media', 'Mediana','Desviación Estandar','Curtosis', 'Asimetría']\n",
        "Estadística_descriptiva\n"
      ],
      "metadata": {
        "colab": {
          "base_uri": "https://localhost:8080/",
          "height": 111
        },
        "id": "yB91P9gqbGDJ",
        "outputId": "5f478522-1be5-468e-ebf3-8986cd8b94f3"
      },
      "execution_count": null,
      "outputs": [
        {
          "output_type": "execute_result",
          "data": {
            "text/plain": [
              "         Media   Mediana  Desviación Estandar  Curtosis  Asimetría\n",
              "MCO  -0.000060  0.000423             0.017948  3.592692   0.194332\n",
              "MSFT  0.000228 -0.000084             0.018335  1.600732  -0.084967"
            ],
            "text/html": [
              "\n",
              "  <div id=\"df-242b446b-1724-45cc-91b7-acb97f5ccef8\">\n",
              "    <div class=\"colab-df-container\">\n",
              "      <div>\n",
              "<style scoped>\n",
              "    .dataframe tbody tr th:only-of-type {\n",
              "        vertical-align: middle;\n",
              "    }\n",
              "\n",
              "    .dataframe tbody tr th {\n",
              "        vertical-align: top;\n",
              "    }\n",
              "\n",
              "    .dataframe thead th {\n",
              "        text-align: right;\n",
              "    }\n",
              "</style>\n",
              "<table border=\"1\" class=\"dataframe\">\n",
              "  <thead>\n",
              "    <tr style=\"text-align: right;\">\n",
              "      <th></th>\n",
              "      <th>Media</th>\n",
              "      <th>Mediana</th>\n",
              "      <th>Desviación Estandar</th>\n",
              "      <th>Curtosis</th>\n",
              "      <th>Asimetría</th>\n",
              "    </tr>\n",
              "  </thead>\n",
              "  <tbody>\n",
              "    <tr>\n",
              "      <th>MCO</th>\n",
              "      <td>-0.000060</td>\n",
              "      <td>0.000423</td>\n",
              "      <td>0.017948</td>\n",
              "      <td>3.592692</td>\n",
              "      <td>0.194332</td>\n",
              "    </tr>\n",
              "    <tr>\n",
              "      <th>MSFT</th>\n",
              "      <td>0.000228</td>\n",
              "      <td>-0.000084</td>\n",
              "      <td>0.018335</td>\n",
              "      <td>1.600732</td>\n",
              "      <td>-0.084967</td>\n",
              "    </tr>\n",
              "  </tbody>\n",
              "</table>\n",
              "</div>\n",
              "      <button class=\"colab-df-convert\" onclick=\"convertToInteractive('df-242b446b-1724-45cc-91b7-acb97f5ccef8')\"\n",
              "              title=\"Convert this dataframe to an interactive table.\"\n",
              "              style=\"display:none;\">\n",
              "        \n",
              "  <svg xmlns=\"http://www.w3.org/2000/svg\" height=\"24px\"viewBox=\"0 0 24 24\"\n",
              "       width=\"24px\">\n",
              "    <path d=\"M0 0h24v24H0V0z\" fill=\"none\"/>\n",
              "    <path d=\"M18.56 5.44l.94 2.06.94-2.06 2.06-.94-2.06-.94-.94-2.06-.94 2.06-2.06.94zm-11 1L8.5 8.5l.94-2.06 2.06-.94-2.06-.94L8.5 2.5l-.94 2.06-2.06.94zm10 10l.94 2.06.94-2.06 2.06-.94-2.06-.94-.94-2.06-.94 2.06-2.06.94z\"/><path d=\"M17.41 7.96l-1.37-1.37c-.4-.4-.92-.59-1.43-.59-.52 0-1.04.2-1.43.59L10.3 9.45l-7.72 7.72c-.78.78-.78 2.05 0 2.83L4 21.41c.39.39.9.59 1.41.59.51 0 1.02-.2 1.41-.59l7.78-7.78 2.81-2.81c.8-.78.8-2.07 0-2.86zM5.41 20L4 18.59l7.72-7.72 1.47 1.35L5.41 20z\"/>\n",
              "  </svg>\n",
              "      </button>\n",
              "      \n",
              "  <style>\n",
              "    .colab-df-container {\n",
              "      display:flex;\n",
              "      flex-wrap:wrap;\n",
              "      gap: 12px;\n",
              "    }\n",
              "\n",
              "    .colab-df-convert {\n",
              "      background-color: #E8F0FE;\n",
              "      border: none;\n",
              "      border-radius: 50%;\n",
              "      cursor: pointer;\n",
              "      display: none;\n",
              "      fill: #1967D2;\n",
              "      height: 32px;\n",
              "      padding: 0 0 0 0;\n",
              "      width: 32px;\n",
              "    }\n",
              "\n",
              "    .colab-df-convert:hover {\n",
              "      background-color: #E2EBFA;\n",
              "      box-shadow: 0px 1px 2px rgba(60, 64, 67, 0.3), 0px 1px 3px 1px rgba(60, 64, 67, 0.15);\n",
              "      fill: #174EA6;\n",
              "    }\n",
              "\n",
              "    [theme=dark] .colab-df-convert {\n",
              "      background-color: #3B4455;\n",
              "      fill: #D2E3FC;\n",
              "    }\n",
              "\n",
              "    [theme=dark] .colab-df-convert:hover {\n",
              "      background-color: #434B5C;\n",
              "      box-shadow: 0px 1px 3px 1px rgba(0, 0, 0, 0.15);\n",
              "      filter: drop-shadow(0px 1px 2px rgba(0, 0, 0, 0.3));\n",
              "      fill: #FFFFFF;\n",
              "    }\n",
              "  </style>\n",
              "\n",
              "      <script>\n",
              "        const buttonEl =\n",
              "          document.querySelector('#df-242b446b-1724-45cc-91b7-acb97f5ccef8 button.colab-df-convert');\n",
              "        buttonEl.style.display =\n",
              "          google.colab.kernel.accessAllowed ? 'block' : 'none';\n",
              "\n",
              "        async function convertToInteractive(key) {\n",
              "          const element = document.querySelector('#df-242b446b-1724-45cc-91b7-acb97f5ccef8');\n",
              "          const dataTable =\n",
              "            await google.colab.kernel.invokeFunction('convertToInteractive',\n",
              "                                                     [key], {});\n",
              "          if (!dataTable) return;\n",
              "\n",
              "          const docLinkHtml = 'Like what you see? Visit the ' +\n",
              "            '<a target=\"_blank\" href=https://colab.research.google.com/notebooks/data_table.ipynb>data table notebook</a>'\n",
              "            + ' to learn more about interactive tables.';\n",
              "          element.innerHTML = '';\n",
              "          dataTable['output_type'] = 'display_data';\n",
              "          await google.colab.output.renderOutput(dataTable, element);\n",
              "          const docLink = document.createElement('div');\n",
              "          docLink.innerHTML = docLinkHtml;\n",
              "          element.appendChild(docLink);\n",
              "        }\n",
              "      </script>\n",
              "    </div>\n",
              "  </div>\n",
              "  "
            ]
          },
          "metadata": {},
          "execution_count": 101
        }
      ]
    },
    {
      "cell_type": "markdown",
      "source": [
        "#D"
      ],
      "metadata": {
        "id": "2wVtmxWkcgu3"
      }
    },
    {
      "cell_type": "code",
      "source": [
        "from scipy.stats import norm\n",
        "retornos_diarios['MSFT'].hist(bins=20,density=True,histtype=\"step\")\n",
        "x = np.linspace(-0.1,0.1,num=100)\n",
        "sigma=retornos_diarios['MSFT'].std()\n",
        "plt.plot(x,norm.pdf(x,scale=sigma),\"r\")\n",
        "plt.axvline(retornos_diarios['MSFT'].mean(),color=\"y\");\n",
        "plt.xlabel(\"Retornos\")\n",
        "plt.ylabel(\"Probabilidad\");\n"
      ],
      "metadata": {
        "colab": {
          "base_uri": "https://localhost:8080/",
          "height": 279
        },
        "id": "6ZkKOaNOlH6B",
        "outputId": "42dd72a8-4348-4e86-8084-e6570415532c"
      },
      "execution_count": null,
      "outputs": [
        {
          "output_type": "display_data",
          "data": {
            "text/plain": [
              "<Figure size 432x288 with 1 Axes>"
            ],
            "image/png": "[encoded data removed]"
          },
          "metadata": {
            "needs_background": "light"
          }
        }
      ]
    },
    {
      "cell_type": "code",
      "source": [
        "from scipy.stats import norm\n",
        "retornos_diarios['MCO'].hist(bins=20,density=True,histtype=\"step\")\n",
        "x = np.linspace(-0.1,0.1,num=100)\n",
        "sigma=retornos_diarios['MCO'].std()\n",
        "plt.plot(x,norm.pdf(x,scale=sigma),\"r\")\n",
        "plt.axvline(retornos_diarios['MCO'].mean(),color=\"y\");\n",
        "plt.xlabel(\"Retornos\")\n",
        "plt.ylabel(\"Probabilidad\");"
      ],
      "metadata": {
        "colab": {
          "base_uri": "https://localhost:8080/",
          "height": 279
        },
        "id": "v3d62g4dnJfu",
        "outputId": "8cc7c3b7-941a-4364-e4c2-9b9d3cb4be23"
      },
      "execution_count": null,
      "outputs": [
        {
          "output_type": "display_data",
          "data": {
            "text/plain": [
              "<Figure size 432x288 with 1 Axes>"
            ],
            "image/png": "[encoded data removed]"
          },
          "metadata": {
            "needs_background": "light"
          }
        }
      ]
    },
    {
      "cell_type": "markdown",
      "source": [
        "#E"
      ],
      "metadata": {
        "id": "k_PUDFV_cnEU"
      }
    },
    {
      "cell_type": "markdown",
      "source": [
        "Correlación Pearson"
      ],
      "metadata": {
        "id": "Obbdg5Ggn13h"
      }
    },
    {
      "cell_type": "code",
      "source": [
        "retornos_diarios['MSFT'].corr(retornos_diarios['MCO'],method=\"pearson\")"
      ],
      "metadata": {
        "id": "LpfyImJvnSEz",
        "colab": {
          "base_uri": "https://localhost:8080/"
        },
        "outputId": "d6241ecc-de32-44ae-9201-6553bbc8239f"
      },
      "execution_count": null,
      "outputs": [
        {
          "output_type": "execute_result",
          "data": {
            "text/plain": [
              "0.6681240255455739"
            ]
          },
          "metadata": {},
          "execution_count": 104
        }
      ]
    },
    {
      "cell_type": "markdown",
      "source": [
        "Correlación Kendall"
      ],
      "metadata": {
        "id": "NQfmGoYZoQwB"
      }
    },
    {
      "cell_type": "code",
      "source": [
        "import scipy.stats as stats\n",
        "stats.kendalltau(retornos_diarios['MSFT'], retornos_diarios['MCO'])"
      ],
      "metadata": {
        "colab": {
          "base_uri": "https://localhost:8080/"
        },
        "id": "TbU6FV06pF_E",
        "outputId": "381fede9-0d5d-45ec-a454-c632f57fa416"
      },
      "execution_count": null,
      "outputs": [
        {
          "output_type": "execute_result",
          "data": {
            "text/plain": [
              "KendalltauResult(correlation=0.497031820950963, pvalue=3.2269138486541147e-62)"
            ]
          },
          "metadata": {},
          "execution_count": 105
        }
      ]
    },
    {
      "cell_type": "code",
      "source": [
        "retornos_diarios['MSFT'].corr(retornos_diarios['MCO'], method='kendall')"
      ],
      "metadata": {
        "colab": {
          "base_uri": "https://localhost:8080/"
        },
        "id": "3-2m_h9kpS-s",
        "outputId": "4eed4688-9913-4344-b65e-d8c89d297a9a"
      },
      "execution_count": null,
      "outputs": [
        {
          "output_type": "execute_result",
          "data": {
            "text/plain": [
              "0.497031820950963"
            ]
          },
          "metadata": {},
          "execution_count": 106
        }
      ]
    },
    {
      "cell_type": "markdown",
      "source": [
        "Correlación Spearman"
      ],
      "metadata": {
        "id": "5NQH14EVprAi"
      }
    },
    {
      "cell_type": "code",
      "source": [
        "stats.spearmanr(retornos_diarios['MSFT'], retornos_diarios['MCO'])"
      ],
      "metadata": {
        "colab": {
          "base_uri": "https://localhost:8080/"
        },
        "id": "yp1b77kUp1-_",
        "outputId": "2a8d39ba-8995-4e66-9845-3741eb8c06c3"
      },
      "execution_count": null,
      "outputs": [
        {
          "output_type": "execute_result",
          "data": {
            "text/plain": [
              "SpearmanrResult(correlation=0.67677938089381, pvalue=1.6387727124380445e-68)"
            ]
          },
          "metadata": {},
          "execution_count": 107
        }
      ]
    },
    {
      "cell_type": "code",
      "source": [
        "retornos_diarios['MSFT'].corr(retornos_diarios['MCO'], method='spearman')"
      ],
      "metadata": {
        "colab": {
          "base_uri": "https://localhost:8080/"
        },
        "id": "fRpzUXLGp-2W",
        "outputId": "5aeee68e-3727-4cc5-b242-43774af9dc0b"
      },
      "execution_count": null,
      "outputs": [
        {
          "output_type": "execute_result",
          "data": {
            "text/plain": [
              "0.67677938089381"
            ]
          },
          "metadata": {},
          "execution_count": 108
        }
      ]
    },
    {
      "cell_type": "markdown",
      "source": [
        "#Punto 2"
      ],
      "metadata": {
        "id": "0tzO0u39qOO7"
      }
    },
    {
      "cell_type": "code",
      "source": [
        "activos = [\"AMZN\", \"PYPL\",\"AAPL\",\"GPS\",\"META\",\"GOOG\",\"TSLA\",\"AXP\",\"VZ\",\"KO\"]\n",
        "precios_mensuales =wb.get_data_yahoo(activos,start=\"2017-12-01\",end=\"2022-12-31\",interval=\"1Mo\")[\"Adj Close\"] \n",
        "retornos_m= np.log(precios_mensuales/precios_mensuales.shift(1)).dropna()\n",
        "retornos_m.head()"
      ],
      "metadata": {
        "colab": {
          "base_uri": "https://localhost:8080/",
          "height": 252
        },
        "id": "DNeSHcA2qYgc",
        "outputId": "bf14c8fe-530d-4b3b-ad53-70f30562d123"
      },
      "execution_count": null,
      "outputs": [
        {
          "output_type": "stream",
          "name": "stdout",
          "text": [
            "[*********************100%***********************]  10 of 10 completed\n"
          ]
        },
        {
          "output_type": "execute_result",
          "data": {
            "text/plain": [
              "                AAPL      AMZN       AXP      GOOG       GPS        KO  \\\n",
              "Date                                                                     \n",
              "2018-01-01 -0.010693  0.215627  0.000906  0.111597 -0.024370  0.036593   \n",
              "2018-02-01  0.061892  0.041554 -0.015675 -0.057352 -0.044454 -0.096319   \n",
              "2018-03-01 -0.055735 -0.044003 -0.044349 -0.068306 -0.012106  0.004847   \n",
              "2018-04-01 -0.015134  0.078880  0.056985 -0.014114 -0.064880  0.003710   \n",
              "2018-05-01  0.122893  0.039739 -0.000820  0.064389 -0.035934 -0.004872   \n",
              "\n",
              "                META      PYPL      TSLA        VZ  \n",
              "Date                                                \n",
              "2018-01-01  0.057426  0.147492  0.129255  0.021309  \n",
              "2018-02-01 -0.046940 -0.071785 -0.032267 -0.113185  \n",
              "2018-03-01 -0.109719 -0.045603 -0.253920  0.001675  \n",
              "2018-04-01  0.073634 -0.016747  0.099255  0.031494  \n",
              "2018-05-01  0.108854  0.095298 -0.031698 -0.022131  "
            ],
            "text/html": [
              "\n",
              "  <div id=\"df-4e24eaa3-5f6b-4c8e-8d1e-61921ea08ecd\">\n",
              "    <div class=\"colab-df-container\">\n",
              "      <div>\n",
              "<style scoped>\n",
              "    .dataframe tbody tr th:only-of-type {\n",
              "        vertical-align: middle;\n",
              "    }\n",
              "\n",
              "    .dataframe tbody tr th {\n",
              "        vertical-align: top;\n",
              "    }\n",
              "\n",
              "    .dataframe thead th {\n",
              "        text-align: right;\n",
              "    }\n",
              "</style>\n",
              "<table border=\"1\" class=\"dataframe\">\n",
              "  <thead>\n",
              "    <tr style=\"text-align: right;\">\n",
              "      <th></th>\n",
              "      <th>AAPL</th>\n",
              "      <th>AMZN</th>\n",
              "      <th>AXP</th>\n",
              "      <th>GOOG</th>\n",
              "      <th>GPS</th>\n",
              "      <th>KO</th>\n",
              "      <th>META</th>\n",
              "      <th>PYPL</th>\n",
              "      <th>TSLA</th>\n",
              "      <th>VZ</th>\n",
              "    </tr>\n",
              "    <tr>\n",
              "      <th>Date</th>\n",
              "      <th></th>\n",
              "      <th></th>\n",
              "      <th></th>\n",
              "      <th></th>\n",
              "      <th></th>\n",
              "      <th></th>\n",
              "      <th></th>\n",
              "      <th></th>\n",
              "      <th></th>\n",
              "      <th></th>\n",
              "    </tr>\n",
              "  </thead>\n",
              "  <tbody>\n",
              "    <tr>\n",
              "      <th>2018-01-01</th>\n",
              "      <td>-0.010693</td>\n",
              "      <td>0.215627</td>\n",
              "      <td>0.000906</td>\n",
              "      <td>0.111597</td>\n",
              "      <td>-0.024370</td>\n",
              "      <td>0.036593</td>\n",
              "      <td>0.057426</td>\n",
              "      <td>0.147492</td>\n",
              "      <td>0.129255</td>\n",
              "      <td>0.021309</td>\n",
              "    </tr>\n",
              "    <tr>\n",
              "      <th>2018-02-01</th>\n",
              "      <td>0.061892</td>\n",
              "      <td>0.041554</td>\n",
              "      <td>-0.015675</td>\n",
              "      <td>-0.057352</td>\n",
              "      <td>-0.044454</td>\n",
              "      <td>-0.096319</td>\n",
              "      <td>-0.046940</td>\n",
              "      <td>-0.071785</td>\n",
              "      <td>-0.032267</td>\n",
              "      <td>-0.113185</td>\n",
              "    </tr>\n",
              "    <tr>\n",
              "      <th>2018-03-01</th>\n",
              "      <td>-0.055735</td>\n",
              "      <td>-0.044003</td>\n",
              "      <td>-0.044349</td>\n",
              "      <td>-0.068306</td>\n",
              "      <td>-0.012106</td>\n",
              "      <td>0.004847</td>\n",
              "      <td>-0.109719</td>\n",
              "      <td>-0.045603</td>\n",
              "      <td>-0.253920</td>\n",
              "      <td>0.001675</td>\n",
              "    </tr>\n",
              "    <tr>\n",
              "      <th>2018-04-01</th>\n",
              "      <td>-0.015134</td>\n",
              "      <td>0.078880</td>\n",
              "      <td>0.056985</td>\n",
              "      <td>-0.014114</td>\n",
              "      <td>-0.064880</td>\n",
              "      <td>0.003710</td>\n",
              "      <td>0.073634</td>\n",
              "      <td>-0.016747</td>\n",
              "      <td>0.099255</td>\n",
              "      <td>0.031494</td>\n",
              "    </tr>\n",
              "    <tr>\n",
              "      <th>2018-05-01</th>\n",
              "      <td>0.122893</td>\n",
              "      <td>0.039739</td>\n",
              "      <td>-0.000820</td>\n",
              "      <td>0.064389</td>\n",
              "      <td>-0.035934</td>\n",
              "      <td>-0.004872</td>\n",
              "      <td>0.108854</td>\n",
              "      <td>0.095298</td>\n",
              "      <td>-0.031698</td>\n",
              "      <td>-0.022131</td>\n",
              "    </tr>\n",
              "  </tbody>\n",
              "</table>\n",
              "</div>\n",
              "      <button class=\"colab-df-convert\" onclick=\"convertToInteractive('df-4e24eaa3-5f6b-4c8e-8d1e-61921ea08ecd')\"\n",
              "              title=\"Convert this dataframe to an interactive table.\"\n",
              "              style=\"display:none;\">\n",
              "        \n",
              "  <svg xmlns=\"http://www.w3.org/2000/svg\" height=\"24px\"viewBox=\"0 0 24 24\"\n",
              "       width=\"24px\">\n",
              "    <path d=\"M0 0h24v24H0V0z\" fill=\"none\"/>\n",
              "    <path d=\"M18.56 5.44l.94 2.06.94-2.06 2.06-.94-2.06-.94-.94-2.06-.94 2.06-2.06.94zm-11 1L8.5 8.5l.94-2.06 2.06-.94-2.06-.94L8.5 2.5l-.94 2.06-2.06.94zm10 10l.94 2.06.94-2.06 2.06-.94-2.06-.94-.94-2.06-.94 2.06-2.06.94z\"/><path d=\"M17.41 7.96l-1.37-1.37c-.4-.4-.92-.59-1.43-.59-.52 0-1.04.2-1.43.59L10.3 9.45l-7.72 7.72c-.78.78-.78 2.05 0 2.83L4 21.41c.39.39.9.59 1.41.59.51 0 1.02-.2 1.41-.59l7.78-7.78 2.81-2.81c.8-.78.8-2.07 0-2.86zM5.41 20L4 18.59l7.72-7.72 1.47 1.35L5.41 20z\"/>\n",
              "  </svg>\n",
              "      </button>\n",
              "      \n",
              "  <style>\n",
              "    .colab-df-container {\n",
              "      display:flex;\n",
              "      flex-wrap:wrap;\n",
              "      gap: 12px;\n",
              "    }\n",
              "\n",
              "    .colab-df-convert {\n",
              "      background-color: #E8F0FE;\n",
              "      border: none;\n",
              "      border-radius: 50%;\n",
              "      cursor: pointer;\n",
              "      display: none;\n",
              "      fill: #1967D2;\n",
              "      height: 32px;\n",
              "      padding: 0 0 0 0;\n",
              "      width: 32px;\n",
              "    }\n",
              "\n",
              "    .colab-df-convert:hover {\n",
              "      background-color: #E2EBFA;\n",
              "      box-shadow: 0px 1px 2px rgba(60, 64, 67, 0.3), 0px 1px 3px 1px rgba(60, 64, 67, 0.15);\n",
              "      fill: #174EA6;\n",
              "    }\n",
              "\n",
              "    [theme=dark] .colab-df-convert {\n",
              "      background-color: #3B4455;\n",
              "      fill: #D2E3FC;\n",
              "    }\n",
              "\n",
              "    [theme=dark] .colab-df-convert:hover {\n",
              "      background-color: #434B5C;\n",
              "      box-shadow: 0px 1px 3px 1px rgba(0, 0, 0, 0.15);\n",
              "      filter: drop-shadow(0px 1px 2px rgba(0, 0, 0, 0.3));\n",
              "      fill: #FFFFFF;\n",
              "    }\n",
              "  </style>\n",
              "\n",
              "      <script>\n",
              "        const buttonEl =\n",
              "          document.querySelector('#df-4e24eaa3-5f6b-4c8e-8d1e-61921ea08ecd button.colab-df-convert');\n",
              "        buttonEl.style.display =\n",
              "          google.colab.kernel.accessAllowed ? 'block' : 'none';\n",
              "\n",
              "        async function convertToInteractive(key) {\n",
              "          const element = document.querySelector('#df-4e24eaa3-5f6b-4c8e-8d1e-61921ea08ecd');\n",
              "          const dataTable =\n",
              "            await google.colab.kernel.invokeFunction('convertToInteractive',\n",
              "                                                     [key], {});\n",
              "          if (!dataTable) return;\n",
              "\n",
              "          const docLinkHtml = 'Like what you see? Visit the ' +\n",
              "            '<a target=\"_blank\" href=https://colab.research.google.com/notebooks/data_table.ipynb>data table notebook</a>'\n",
              "            + ' to learn more about interactive tables.';\n",
              "          element.innerHTML = '';\n",
              "          dataTable['output_type'] = 'display_data';\n",
              "          await google.colab.output.renderOutput(dataTable, element);\n",
              "          const docLink = document.createElement('div');\n",
              "          docLink.innerHTML = docLinkHtml;\n",
              "          element.appendChild(docLink);\n",
              "        }\n",
              "      </script>\n",
              "    </div>\n",
              "  </div>\n",
              "  "
            ]
          },
          "metadata": {},
          "execution_count": 109
        }
      ]
    },
    {
      "cell_type": "markdown",
      "source": [
        "#A"
      ],
      "metadata": {
        "id": "DKFhRAEidJeo"
      }
    },
    {
      "cell_type": "code",
      "source": [
        "retorno_anualizado = retornos_m.mean()*12"
      ],
      "metadata": {
        "id": "SdVjzw1Ttd91"
      },
      "execution_count": null,
      "outputs": []
    },
    {
      "cell_type": "code",
      "source": [
        "retornos_m.std()*np.sqrt(12)"
      ],
      "metadata": {
        "colab": {
          "base_uri": "https://localhost:8080/"
        },
        "id": "b-LIEce-trOX",
        "outputId": "76586bf0-8c7a-40ab-d320-f37e2af9ca85"
      },
      "execution_count": null,
      "outputs": [
        {
          "output_type": "execute_result",
          "data": {
            "text/plain": [
              "AAPL    0.319091\n",
              "AMZN    0.338207\n",
              "AXP     0.291930\n",
              "GOOG    0.259863\n",
              "GPS     0.581690\n",
              "KO      0.197600\n",
              "META    0.402351\n",
              "PYPL    0.399430\n",
              "TSLA    0.679090\n",
              "VZ      0.171293\n",
              "dtype: float64"
            ]
          },
          "metadata": {},
          "execution_count": 111
        }
      ]
    },
    {
      "cell_type": "markdown",
      "source": [
        "#B"
      ],
      "metadata": {
        "id": "gKRltUnTdLRD"
      }
    },
    {
      "cell_type": "code",
      "source": [
        "Ranqueo_activos = pd.DataFrame(retorno_anualizado, columns=['Retornos Anualizados'])\n",
        "Ranqueo_activos.sort_values(\"Retornos Anualizados\")\n"
      ],
      "metadata": {
        "colab": {
          "base_uri": "https://localhost:8080/",
          "height": 359
        },
        "id": "xv5aitADdu88",
        "outputId": "772a3fd1-f963-4f7c-cd6a-deb10f8ae5bf"
      },
      "execution_count": null,
      "outputs": [
        {
          "output_type": "execute_result",
          "data": {
            "text/plain": [
              "      Retornos Anualizados\n",
              "GPS              -0.188896\n",
              "META             -0.076555\n",
              "VZ               -0.013388\n",
              "PYPL             -0.006629\n",
              "AMZN              0.072449\n",
              "AXP               0.093692\n",
              "KO                0.097156\n",
              "GOOG              0.105644\n",
              "AAPL              0.234476\n",
              "TSLA              0.356156"
            ],
            "text/html": [
              "\n",
              "  <div id=\"df-4e340724-bd1c-495e-aecc-6525b09e5d83\">\n",
              "    <div class=\"colab-df-container\">\n",
              "      <div>\n",
              "<style scoped>\n",
              "    .dataframe tbody tr th:only-of-type {\n",
              "        vertical-align: middle;\n",
              "    }\n",
              "\n",
              "    .dataframe tbody tr th {\n",
              "        vertical-align: top;\n",
              "    }\n",
              "\n",
              "    .dataframe thead th {\n",
              "        text-align: right;\n",
              "    }\n",
              "</style>\n",
              "<table border=\"1\" class=\"dataframe\">\n",
              "  <thead>\n",
              "    <tr style=\"text-align: right;\">\n",
              "      <th></th>\n",
              "      <th>Retornos Anualizados</th>\n",
              "    </tr>\n",
              "  </thead>\n",
              "  <tbody>\n",
              "    <tr>\n",
              "      <th>GPS</th>\n",
              "      <td>-0.188896</td>\n",
              "    </tr>\n",
              "    <tr>\n",
              "      <th>META</th>\n",
              "      <td>-0.076555</td>\n",
              "    </tr>\n",
              "    <tr>\n",
              "      <th>VZ</th>\n",
              "      <td>-0.013388</td>\n",
              "    </tr>\n",
              "    <tr>\n",
              "      <th>PYPL</th>\n",
              "      <td>-0.006629</td>\n",
              "    </tr>\n",
              "    <tr>\n",
              "      <th>AMZN</th>\n",
              "      <td>0.072449</td>\n",
              "    </tr>\n",
              "    <tr>\n",
              "      <th>AXP</th>\n",
              "      <td>0.093692</td>\n",
              "    </tr>\n",
              "    <tr>\n",
              "      <th>KO</th>\n",
              "      <td>0.097156</td>\n",
              "    </tr>\n",
              "    <tr>\n",
              "      <th>GOOG</th>\n",
              "      <td>0.105644</td>\n",
              "    </tr>\n",
              "    <tr>\n",
              "      <th>AAPL</th>\n",
              "      <td>0.234476</td>\n",
              "    </tr>\n",
              "    <tr>\n",
              "      <th>TSLA</th>\n",
              "      <td>0.356156</td>\n",
              "    </tr>\n",
              "  </tbody>\n",
              "</table>\n",
              "</div>\n",
              "      <button class=\"colab-df-convert\" onclick=\"convertToInteractive('df-4e340724-bd1c-495e-aecc-6525b09e5d83')\"\n",
              "              title=\"Convert this dataframe to an interactive table.\"\n",
              "              style=\"display:none;\">\n",
              "        \n",
              "  <svg xmlns=\"http://www.w3.org/2000/svg\" height=\"24px\"viewBox=\"0 0 24 24\"\n",
              "       width=\"24px\">\n",
              "    <path d=\"M0 0h24v24H0V0z\" fill=\"none\"/>\n",
              "    <path d=\"M18.56 5.44l.94 2.06.94-2.06 2.06-.94-2.06-.94-.94-2.06-.94 2.06-2.06.94zm-11 1L8.5 8.5l.94-2.06 2.06-.94-2.06-.94L8.5 2.5l-.94 2.06-2.06.94zm10 10l.94 2.06.94-2.06 2.06-.94-2.06-.94-.94-2.06-.94 2.06-2.06.94z\"/><path d=\"M17.41 7.96l-1.37-1.37c-.4-.4-.92-.59-1.43-.59-.52 0-1.04.2-1.43.59L10.3 9.45l-7.72 7.72c-.78.78-.78 2.05 0 2.83L4 21.41c.39.39.9.59 1.41.59.51 0 1.02-.2 1.41-.59l7.78-7.78 2.81-2.81c.8-.78.8-2.07 0-2.86zM5.41 20L4 18.59l7.72-7.72 1.47 1.35L5.41 20z\"/>\n",
              "  </svg>\n",
              "      </button>\n",
              "      \n",
              "  <style>\n",
              "    .colab-df-container {\n",
              "      display:flex;\n",
              "      flex-wrap:wrap;\n",
              "      gap: 12px;\n",
              "    }\n",
              "\n",
              "    .colab-df-convert {\n",
              "      background-color: #E8F0FE;\n",
              "      border: none;\n",
              "      border-radius: 50%;\n",
              "      cursor: pointer;\n",
              "      display: none;\n",
              "      fill: #1967D2;\n",
              "      height: 32px;\n",
              "      padding: 0 0 0 0;\n",
              "      width: 32px;\n",
              "    }\n",
              "\n",
              "    .colab-df-convert:hover {\n",
              "      background-color: #E2EBFA;\n",
              "      box-shadow: 0px 1px 2px rgba(60, 64, 67, 0.3), 0px 1px 3px 1px rgba(60, 64, 67, 0.15);\n",
              "      fill: #174EA6;\n",
              "    }\n",
              "\n",
              "    [theme=dark] .colab-df-convert {\n",
              "      background-color: #3B4455;\n",
              "      fill: #D2E3FC;\n",
              "    }\n",
              "\n",
              "    [theme=dark] .colab-df-convert:hover {\n",
              "      background-color: #434B5C;\n",
              "      box-shadow: 0px 1px 3px 1px rgba(0, 0, 0, 0.15);\n",
              "      filter: drop-shadow(0px 1px 2px rgba(0, 0, 0, 0.3));\n",
              "      fill: #FFFFFF;\n",
              "    }\n",
              "  </style>\n",
              "\n",
              "      <script>\n",
              "        const buttonEl =\n",
              "          document.querySelector('#df-4e340724-bd1c-495e-aecc-6525b09e5d83 button.colab-df-convert');\n",
              "        buttonEl.style.display =\n",
              "          google.colab.kernel.accessAllowed ? 'block' : 'none';\n",
              "\n",
              "        async function convertToInteractive(key) {\n",
              "          const element = document.querySelector('#df-4e340724-bd1c-495e-aecc-6525b09e5d83');\n",
              "          const dataTable =\n",
              "            await google.colab.kernel.invokeFunction('convertToInteractive',\n",
              "                                                     [key], {});\n",
              "          if (!dataTable) return;\n",
              "\n",
              "          const docLinkHtml = 'Like what you see? Visit the ' +\n",
              "            '<a target=\"_blank\" href=https://colab.research.google.com/notebooks/data_table.ipynb>data table notebook</a>'\n",
              "            + ' to learn more about interactive tables.';\n",
              "          element.innerHTML = '';\n",
              "          dataTable['output_type'] = 'display_data';\n",
              "          await google.colab.output.renderOutput(dataTable, element);\n",
              "          const docLink = document.createElement('div');\n",
              "          docLink.innerHTML = docLinkHtml;\n",
              "          element.appendChild(docLink);\n",
              "        }\n",
              "      </script>\n",
              "    </div>\n",
              "  </div>\n",
              "  "
            ]
          },
          "metadata": {},
          "execution_count": 121
        }
      ]
    },
    {
      "cell_type": "markdown",
      "source": [
        "#Punto 3"
      ],
      "metadata": {
        "id": "c3u9OcvHunyB"
      }
    },
    {
      "cell_type": "code",
      "source": [
        "activos = [\"^RUT\"]\n",
        "precios_mensuales_rusell =wb.get_data_yahoo(activos,start=\"2011-12-01\",end=\"2022-12-31\",interval=\"1Mo\")[\"Adj Close\"] \n",
        "retornos_rusell = np.log(precios_mensuales_rusell/precios_mensuales_rusell.shift(1)).dropna()\n",
        "retornos_rusell.head()"
      ],
      "metadata": {
        "colab": {
          "base_uri": "https://localhost:8080/"
        },
        "id": "SMZuN48gutXM",
        "outputId": "b51687a2-98ae-44f1-b901-0ef129d874e8"
      },
      "execution_count": null,
      "outputs": [
        {
          "output_type": "stream",
          "name": "stdout",
          "text": [
            "\r[*********************100%***********************]  1 of 1 completed\n"
          ]
        },
        {
          "output_type": "execute_result",
          "data": {
            "text/plain": [
              "Date\n",
              "2012-01-01    0.067704\n",
              "2012-02-01    0.022598\n",
              "2012-03-01    0.023593\n",
              "2012-04-01   -0.016295\n",
              "2012-05-01   -0.069782\n",
              "Name: Adj Close, dtype: float64"
            ]
          },
          "metadata": {},
          "execution_count": 122
        }
      ]
    },
    {
      "cell_type": "markdown",
      "source": [
        "#A"
      ],
      "metadata": {
        "id": "SQzZBl4Rv0cl"
      }
    },
    {
      "cell_type": "code",
      "source": [
        "sigma = retornos_rusell.std()\n",
        "sigma"
      ],
      "metadata": {
        "colab": {
          "base_uri": "https://localhost:8080/"
        },
        "id": "PTrQwrg-wGS0",
        "outputId": "907e0063-a9cf-48a9-89f5-eafd0c025b18"
      },
      "execution_count": null,
      "outputs": [
        {
          "output_type": "execute_result",
          "data": {
            "text/plain": [
              "0.05474479591479422"
            ]
          },
          "metadata": {},
          "execution_count": 123
        }
      ]
    },
    {
      "cell_type": "code",
      "source": [
        "sigma*np.sqrt(12)"
      ],
      "metadata": {
        "colab": {
          "base_uri": "https://localhost:8080/"
        },
        "id": "hVZSylQ5waBZ",
        "outputId": "fc2718d8-7577-4ede-a29a-cc0db7540b93"
      },
      "execution_count": null,
      "outputs": [
        {
          "output_type": "execute_result",
          "data": {
            "text/plain": [
              "0.18964153594882538"
            ]
          },
          "metadata": {},
          "execution_count": 124
        }
      ]
    },
    {
      "cell_type": "markdown",
      "source": [
        "#B"
      ],
      "metadata": {
        "id": "h8DO7UkwwmMQ"
      }
    },
    {
      "cell_type": "code",
      "source": [
        "activos = [\"^RUT\"]\n",
        "precios_mensuales_rusell =wb.get_data_yahoo(activos,start=\"2011-12-01\",end=\"2022-12-31\",interval=\"1Mo\")\n",
        "retornos_rusell_completo = np.log(precios_mensuales_rusell/precios_mensuales_rusell.shift(1)).dropna()\n"
      ],
      "metadata": {
        "colab": {
          "base_uri": "https://localhost:8080/"
        },
        "id": "z3cY9hgU0nhq",
        "outputId": "6b4e65cd-2962-4f9c-9560-ad17a76f1bc0"
      },
      "execution_count": null,
      "outputs": [
        {
          "output_type": "stream",
          "name": "stdout",
          "text": [
            "\r[*********************100%***********************]  1 of 1 completed\n"
          ]
        }
      ]
    },
    {
      "cell_type": "code",
      "source": [
        "High_low = np.log(precios_mensuales_rusell[\"High\"]/precios_mensuales_rusell[\"Low\"]).dropna()\n",
        "sigma_parkinson = ((1/(4*np.log(2)))*High_low**2)**0.5\n",
        "sigma_parkinson.plot()"
      ],
      "metadata": {
        "colab": {
          "base_uri": "https://localhost:8080/",
          "height": 296
        },
        "id": "g5_mEztOxvh1",
        "outputId": "b2843dd8-fbec-4da4-90ae-bf1fb2a11f5c"
      },
      "execution_count": null,
      "outputs": [
        {
          "output_type": "execute_result",
          "data": {
            "text/plain": [
              "<matplotlib.axes._subplots.AxesSubplot at 0x7f01688ef700>"
            ]
          },
          "metadata": {},
          "execution_count": 131
        },
        {
          "output_type": "display_data",
          "data": {
            "text/plain": [
              "<Figure size 432x288 with 1 Axes>"
            ],
            "image/png": "[encoded data removed]"
          },
          "metadata": {
            "needs_background": "light"
          }
        }
      ]
    },
    {
      "cell_type": "code",
      "source": [
        "sigma_parkinson.mean()*np.sqrt(12)"
      ],
      "metadata": {
        "colab": {
          "base_uri": "https://localhost:8080/"
        },
        "id": "2DJKUOiW1eW0",
        "outputId": "e941970a-6163-4c83-ec55-a0d4dba7c604"
      },
      "execution_count": null,
      "outputs": [
        {
          "output_type": "execute_result",
          "data": {
            "text/plain": [
              "0.1767113126308943"
            ]
          },
          "metadata": {},
          "execution_count": 130
        }
      ]
    },
    {
      "cell_type": "markdown",
      "source": [
        "#C"
      ],
      "metadata": {
        "id": "VoAWWq9s15Ad"
      }
    },
    {
      "cell_type": "code",
      "source": [
        "High_low_GK = np.log(precios_mensuales_rusell[\"High\"]/precios_mensuales_rusell[\"Low\"]).dropna()\n",
        "Close_open_GK = np.log(precios_mensuales_rusell[\"Close\"]/precios_mensuales_rusell[\"Open\"]).dropna()\n",
        "sigma_GK = (0.5*High_low_GK**2-(2*np.log(2)-1)*Close_open_GK**2)**0.5\n",
        "sigma_GK.plot()"
      ],
      "metadata": {
        "colab": {
          "base_uri": "https://localhost:8080/",
          "height": 297
        },
        "id": "H5qV6vT_yix7",
        "outputId": "17c57b8b-5e10-4b33-d816-8767015e89de"
      },
      "execution_count": null,
      "outputs": [
        {
          "output_type": "execute_result",
          "data": {
            "text/plain": [
              "<matplotlib.axes._subplots.AxesSubplot at 0x7f016821c250>"
            ]
          },
          "metadata": {},
          "execution_count": 132
        },
        {
          "output_type": "display_data",
          "data": {
            "text/plain": [
              "<Figure size 432x288 with 1 Axes>"
            ],
            "image/png": "[encoded data removed]"
          },
          "metadata": {
            "needs_background": "light"
          }
        }
      ]
    },
    {
      "cell_type": "code",
      "source": [
        "sigma_GK.mean()*np.sqrt(12)"
      ],
      "metadata": {
        "colab": {
          "base_uri": "https://localhost:8080/"
        },
        "id": "eriq6QeL01Mf",
        "outputId": "c0e856a4-46fa-49f9-f3b9-644befdd3448"
      },
      "execution_count": null,
      "outputs": [
        {
          "output_type": "execute_result",
          "data": {
            "text/plain": [
              "0.1815139038491142"
            ]
          },
          "metadata": {},
          "execution_count": 133
        }
      ]
    },
    {
      "cell_type": "markdown",
      "source": [
        "#D"
      ],
      "metadata": {
        "id": "OoOAhPws1wjA"
      }
    },
    {
      "cell_type": "code",
      "source": [
        "activos = [\"^RUT\"]\n",
        "precios_mensuales_rusell =wb.get_data_yahoo(activos,start=\"2011-12-01\",end=\"2022-12-31\",interval=\"1Mo\")['Adj Close']\n",
        "retornos_rusell = np.log(precios_mensuales_rusell/precios_mensuales_rusell.shift(1)).dropna()"
      ],
      "metadata": {
        "colab": {
          "base_uri": "https://localhost:8080/"
        },
        "id": "u0_8qZ7P4Uej",
        "outputId": "f5cdc721-2a93-40fa-c278-a4fc96d57390"
      },
      "execution_count": null,
      "outputs": [
        {
          "output_type": "stream",
          "name": "stdout",
          "text": [
            "\r[*********************100%***********************]  1 of 1 completed\n"
          ]
        }
      ]
    },
    {
      "cell_type": "code",
      "source": [
        "def ewma_vol(retornos,Lambda):\n",
        "  k = len(retornos)                     \n",
        "  e = np.arange(k-1,-1,-1)              \n",
        "  alpha = Lambda**e                     \n",
        "  s_var = (retornos**2)*alpha           \n",
        "  var = s_var.sum()*(1-Lambda)          \n",
        "  vol = np.sqrt(var)                    \n",
        "  return(vol)"
      ],
      "metadata": {
        "id": "wvpyavuyiORz"
      },
      "execution_count": 139,
      "outputs": []
    },
    {
      "cell_type": "code",
      "source": [
        "vol_ewma = ewma_vol(retornos_rusell,Lambda=0.94)\n",
        "vol_ewma"
      ],
      "metadata": {
        "colab": {
          "base_uri": "https://localhost:8080/"
        },
        "id": "JL0nKJeMiI3M",
        "outputId": "a1dc88a9-4a8f-450d-9e79-cd3de2b2118e"
      },
      "execution_count": 141,
      "outputs": [
        {
          "output_type": "execute_result",
          "data": {
            "text/plain": [
              "0.06830769009655513"
            ]
          },
          "metadata": {},
          "execution_count": 141
        }
      ]
    },
    {
      "cell_type": "markdown",
      "source": [
        "Volatilidad anualizada"
      ],
      "metadata": {
        "id": "bunuS_Ycifo3"
      }
    },
    {
      "cell_type": "code",
      "source": [
        "vol_ewma*np.sqrt(12)"
      ],
      "metadata": {
        "colab": {
          "base_uri": "https://localhost:8080/"
        },
        "id": "XxqtU8KFihhs",
        "outputId": "f40e88b8-a0f0-47f4-cdae-bd0b1fd6c360"
      },
      "execution_count": 143,
      "outputs": [
        {
          "output_type": "execute_result",
          "data": {
            "text/plain": [
              "0.23662477958980582"
            ]
          },
          "metadata": {},
          "execution_count": 143
        }
      ]
    }
  ]
}